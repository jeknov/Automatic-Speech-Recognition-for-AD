{
 "cells": [
  {
   "cell_type": "code",
   "execution_count": null,
   "metadata": {
    "collapsed": true
   },
   "outputs": [],
   "source": [
    "import json\n",
    "import pandas as pd\n",
    "from shared import *              #shared functions from shared.py"
   ]
  },
  {
   "cell_type": "code",
   "execution_count": null,
   "metadata": {
    "collapsed": true
   },
   "outputs": [],
   "source": [
    "def del_words(transcript, rate):\n",
    "    \"\"\"delete words at a given rate from the transcript, \n",
    "    return the new transcript and list of deleted words\"\"\"\n",
    "\n",
    "    transcript = json.loads(transcript)\n",
    "    to_delete = random_words_list(flatten(transcript), rate)     #determine how many words need to be deleted\n",
    "    deleted_words = []        \n",
    "    try:\n",
    "        while 0 != (len(to_delete)):            \n",
    "            for sublist in transcript: \n",
    "                for element in sublist['tokens']:\n",
    "                    if to_delete[0] == element['value']:                  \n",
    "                        deleted_words.append(element)\n",
    "                        to_delete.remove(to_delete[0])\n",
    "                        sublist['tokens'].remove(element)                       \n",
    "    except:\n",
    "        pass\n",
    "    return json.dumps(transcript), deleted_words"
   ]
  },
  {
   "cell_type": "code",
   "execution_count": null,
   "metadata": {},
   "outputs": [],
   "source": [
    "df = pd.read_csv('../ASRforAD.csv')\n",
    "\n",
    "#delete % of words from json manual transcript for all rows in dataframe\n",
    "df = df.merge(df.json_utterances_man.apply(lambda s: pd.Series(del_words(s, 0.2))), left_index=True, right_index=True)       \n",
    "df.rename(columns = {0:'json_utterances_man_wt_DELETED_WORDS_20%', 1:'DELETED_WORDS_20%'}, inplace =True )     \n",
    "\n",
    "#output csv with altered manual transcript and deleted words as new columns\n",
    "df.to_csv('../DELETION_ASRforAD.csv')\n",
    "\n",
    "df.head()"
   ]
  }
 ],
 "metadata": {
  "kernelspec": {
   "display_name": "Python 3",
   "language": "python",
   "name": "python3"
  },
  "language_info": {
   "codemirror_mode": {
    "name": "ipython",
    "version": 3
   },
   "file_extension": ".py",
   "mimetype": "text/x-python",
   "name": "python",
   "nbconvert_exporter": "python",
   "pygments_lexer": "ipython3",
   "version": "3.6.1"
  }
 },
 "nbformat": 4,
 "nbformat_minor": 2
}
